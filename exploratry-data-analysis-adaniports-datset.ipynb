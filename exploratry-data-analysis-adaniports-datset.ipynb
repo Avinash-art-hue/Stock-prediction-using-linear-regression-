{
 "cells": [
  {
   "cell_type": "markdown",
   "metadata": {},
   "source": [
    "# Avinash Pandey \n",
    "Msc DataScience "
   ]
  },
  {
   "cell_type": "markdown",
   "metadata": {
    "id": "kTVNlVq0H1nb"
   },
   "source": [
    "\n",
    "\n",
    "#exploratry data analysis on ADANIPORTS  datasets\n",
    "\n",
    "\n",
    "TODO- To talk about the dataset and EDA\n",
    "      source-kaggle.\n",
    "      \n",
    " \n",
    "Information about adaniports stock data \n",
    "why nifty 50 and its stocks?\n",
    "Nifty 50 shows the economic condition of india .it consist of 50 companies in which I choose adaniports to perform \n",
    "expolatory data analysis "
   ]
  },
  {
   "cell_type": "code",
   "execution_count": 1,
   "metadata": {
    "id": "07u4AS6iH1nf"
   },
   "outputs": [],
   "source": [
    "#importing libraries\n",
    "import pandas as pd\n",
    "from sklearn import metrics \n",
    "import numpy as np \n",
    "import seaborn as sns\n",
    "import matplotlib.pyplot as plt\n",
    "import time \n",
    "import os \n",
    "%matplotlib inline\n",
    "from sklearn.metrics import confusion_matrix, ConfusionMatrixDisplay"
   ]
  },
  {
   "cell_type": "code",
   "execution_count": 2,
   "metadata": {
    "id": "1-OWnmUCH1ne"
   },
   "outputs": [],
   "source": [
    "data_file=\"/home/avinash/Music/NIFTY50_STOCKS/ADANIPORTS.csv\""
   ]
  },
  {
   "cell_type": "markdown",
   "metadata": {
    "id": "w2GcOmguJ58B"
   },
   "source": [
    "Data preparation and cleaning\n",
    "1. Loading file using pandas\n",
    "2. We will see some info about data\n",
    "3. If there any incorrect value or missing value will fix that"
   ]
  },
  {
   "cell_type": "code",
   "execution_count": 3,
   "metadata": {
    "id": "_nP-Y0dmKQ1P",
    "outputId": "03e18317-c631-4d63-84fa-91a89b454817"
   },
   "outputs": [],
   "source": [
    "#reading the data into dataframes\n",
    "df= pd.read_csv(data_file)\n"
   ]
  },
  {
   "cell_type": "code",
   "execution_count": 4,
   "metadata": {},
   "outputs": [],
   "source": [
    "#removing Series column \n",
    "df.drop('Series',axis=1,inplace=True)"
   ]
  },
  {
   "cell_type": "code",
   "execution_count": 5,
   "metadata": {},
   "outputs": [],
   "source": [
    "df.drop('Symbol',axis=1,inplace=True)"
   ]
  },
  {
   "cell_type": "code",
   "execution_count": 6,
   "metadata": {},
   "outputs": [
    {
     "data": {
      "text/html": [
       "<div>\n",
       "<style scoped>\n",
       "    .dataframe tbody tr th:only-of-type {\n",
       "        vertical-align: middle;\n",
       "    }\n",
       "\n",
       "    .dataframe tbody tr th {\n",
       "        vertical-align: top;\n",
       "    }\n",
       "\n",
       "    .dataframe thead th {\n",
       "        text-align: right;\n",
       "    }\n",
       "</style>\n",
       "<table border=\"1\" class=\"dataframe\">\n",
       "  <thead>\n",
       "    <tr style=\"text-align: right;\">\n",
       "      <th></th>\n",
       "      <th>Date</th>\n",
       "      <th>Prev Close</th>\n",
       "      <th>Open</th>\n",
       "      <th>High</th>\n",
       "      <th>Low</th>\n",
       "      <th>Last</th>\n",
       "      <th>Close</th>\n",
       "      <th>VWAP</th>\n",
       "      <th>Volume</th>\n",
       "      <th>Turnover</th>\n",
       "      <th>Trades</th>\n",
       "      <th>Deliverable Volume</th>\n",
       "      <th>%Deliverble</th>\n",
       "    </tr>\n",
       "  </thead>\n",
       "  <tbody>\n",
       "    <tr>\n",
       "      <th>0</th>\n",
       "      <td>2007-11-27</td>\n",
       "      <td>440.00</td>\n",
       "      <td>770.00</td>\n",
       "      <td>1050.00</td>\n",
       "      <td>770.0</td>\n",
       "      <td>959.0</td>\n",
       "      <td>962.90</td>\n",
       "      <td>984.72</td>\n",
       "      <td>27294366</td>\n",
       "      <td>2.687719e+15</td>\n",
       "      <td>NaN</td>\n",
       "      <td>9859619</td>\n",
       "      <td>0.3612</td>\n",
       "    </tr>\n",
       "    <tr>\n",
       "      <th>1</th>\n",
       "      <td>2007-11-28</td>\n",
       "      <td>962.90</td>\n",
       "      <td>984.00</td>\n",
       "      <td>990.00</td>\n",
       "      <td>874.0</td>\n",
       "      <td>885.0</td>\n",
       "      <td>893.90</td>\n",
       "      <td>941.38</td>\n",
       "      <td>4581338</td>\n",
       "      <td>4.312765e+14</td>\n",
       "      <td>NaN</td>\n",
       "      <td>1453278</td>\n",
       "      <td>0.3172</td>\n",
       "    </tr>\n",
       "    <tr>\n",
       "      <th>2</th>\n",
       "      <td>2007-11-29</td>\n",
       "      <td>893.90</td>\n",
       "      <td>909.00</td>\n",
       "      <td>914.75</td>\n",
       "      <td>841.0</td>\n",
       "      <td>887.0</td>\n",
       "      <td>884.20</td>\n",
       "      <td>888.09</td>\n",
       "      <td>5124121</td>\n",
       "      <td>4.550658e+14</td>\n",
       "      <td>NaN</td>\n",
       "      <td>1069678</td>\n",
       "      <td>0.2088</td>\n",
       "    </tr>\n",
       "    <tr>\n",
       "      <th>3</th>\n",
       "      <td>2007-11-30</td>\n",
       "      <td>884.20</td>\n",
       "      <td>890.00</td>\n",
       "      <td>958.00</td>\n",
       "      <td>890.0</td>\n",
       "      <td>929.0</td>\n",
       "      <td>921.55</td>\n",
       "      <td>929.17</td>\n",
       "      <td>4609762</td>\n",
       "      <td>4.283257e+14</td>\n",
       "      <td>NaN</td>\n",
       "      <td>1260913</td>\n",
       "      <td>0.2735</td>\n",
       "    </tr>\n",
       "    <tr>\n",
       "      <th>4</th>\n",
       "      <td>2007-12-03</td>\n",
       "      <td>921.55</td>\n",
       "      <td>939.75</td>\n",
       "      <td>995.00</td>\n",
       "      <td>922.0</td>\n",
       "      <td>980.0</td>\n",
       "      <td>969.30</td>\n",
       "      <td>965.65</td>\n",
       "      <td>2977470</td>\n",
       "      <td>2.875200e+14</td>\n",
       "      <td>NaN</td>\n",
       "      <td>816123</td>\n",
       "      <td>0.2741</td>\n",
       "    </tr>\n",
       "  </tbody>\n",
       "</table>\n",
       "</div>"
      ],
      "text/plain": [
       "         Date  Prev Close    Open     High    Low   Last   Close    VWAP  \\\n",
       "0  2007-11-27      440.00  770.00  1050.00  770.0  959.0  962.90  984.72   \n",
       "1  2007-11-28      962.90  984.00   990.00  874.0  885.0  893.90  941.38   \n",
       "2  2007-11-29      893.90  909.00   914.75  841.0  887.0  884.20  888.09   \n",
       "3  2007-11-30      884.20  890.00   958.00  890.0  929.0  921.55  929.17   \n",
       "4  2007-12-03      921.55  939.75   995.00  922.0  980.0  969.30  965.65   \n",
       "\n",
       "     Volume      Turnover  Trades  Deliverable Volume  %Deliverble  \n",
       "0  27294366  2.687719e+15     NaN             9859619       0.3612  \n",
       "1   4581338  4.312765e+14     NaN             1453278       0.3172  \n",
       "2   5124121  4.550658e+14     NaN             1069678       0.2088  \n",
       "3   4609762  4.283257e+14     NaN             1260913       0.2735  \n",
       "4   2977470  2.875200e+14     NaN              816123       0.2741  "
      ]
     },
     "execution_count": 6,
     "metadata": {},
     "output_type": "execute_result"
    }
   ],
   "source": [
    "df.head()"
   ]
  },
  {
   "cell_type": "code",
   "execution_count": 7,
   "metadata": {},
   "outputs": [
    {
     "data": {
      "text/plain": [
       "Date                  False\n",
       "Prev Close            False\n",
       "Open                  False\n",
       "High                  False\n",
       "Low                   False\n",
       "Last                  False\n",
       "Close                 False\n",
       "VWAP                  False\n",
       "Volume                False\n",
       "Turnover              False\n",
       "Trades                 True\n",
       "Deliverable Volume    False\n",
       "%Deliverble           False\n",
       "dtype: bool"
      ]
     },
     "execution_count": 7,
     "metadata": {},
     "output_type": "execute_result"
    }
   ],
   "source": [
    "df.isna().any()"
   ]
  },
  {
   "cell_type": "code",
   "execution_count": 8,
   "metadata": {},
   "outputs": [
    {
     "data": {
      "text/plain": [
       "<AxesSubplot:>"
      ]
     },
     "execution_count": 8,
     "metadata": {},
     "output_type": "execute_result"
    },
    {
     "data": {
      "image/png": "[encoded data removed]",
      "text/plain": [
       "<Figure size 864x504 with 1 Axes>"
      ]
     },
     "metadata": {
      "needs_background": "light"
     },
     "output_type": "display_data"
    }
   ],
   "source": [
    "plt.figure(figsize=(12, 7))\n",
    "sns.heatmap(df.isnull(),yticklabels=False,cbar=False,cmap=\"viridis\")"
   ]
  },
  {
   "cell_type": "code",
   "execution_count": 9,
   "metadata": {
    "id": "ENjHZ90ZKXgf",
    "outputId": "e26318da-fb60-4a57-a1f9-5613009ed2c5"
   },
   "outputs": [
    {
     "data": {
      "text/plain": [
       "Index(['Date', 'Prev Close', 'Open', 'High', 'Low', 'Last', 'Close', 'VWAP',\n",
       "       'Volume', 'Turnover', 'Trades', 'Deliverable Volume', '%Deliverble'],\n",
       "      dtype='object')"
      ]
     },
     "execution_count": 9,
     "metadata": {},
     "output_type": "execute_result"
    }
   ],
   "source": [
    "#columns on which we are working in\n",
    "df.columns"
   ]
  },
  {
   "cell_type": "code",
   "execution_count": 10,
   "metadata": {},
   "outputs": [
    {
     "data": {
      "text/plain": [
       "(3322, 13)"
      ]
     },
     "execution_count": 10,
     "metadata": {},
     "output_type": "execute_result"
    }
   ],
   "source": [
    "df.shape"
   ]
  },
  {
   "cell_type": "code",
   "execution_count": 11,
   "metadata": {
    "id": "kiTV2TByK3xz",
    "outputId": "215dc2d7-f524-4e00-e3d2-c6773c4f8148"
   },
   "outputs": [
    {
     "name": "stdout",
     "output_type": "stream",
     "text": [
      "<class 'pandas.core.frame.DataFrame'>\n",
      "RangeIndex: 3322 entries, 0 to 3321\n",
      "Data columns (total 13 columns):\n",
      " #   Column              Non-Null Count  Dtype  \n",
      "---  ------              --------------  -----  \n",
      " 0   Date                3322 non-null   object \n",
      " 1   Prev Close          3322 non-null   float64\n",
      " 2   Open                3322 non-null   float64\n",
      " 3   High                3322 non-null   float64\n",
      " 4   Low                 3322 non-null   float64\n",
      " 5   Last                3322 non-null   float64\n",
      " 6   Close               3322 non-null   float64\n",
      " 7   VWAP                3322 non-null   float64\n",
      " 8   Volume              3322 non-null   int64  \n",
      " 9   Turnover            3322 non-null   float64\n",
      " 10  Trades              2456 non-null   float64\n",
      " 11  Deliverable Volume  3322 non-null   int64  \n",
      " 12  %Deliverble         3322 non-null   float64\n",
      "dtypes: float64(10), int64(2), object(1)\n",
      "memory usage: 337.5+ KB\n"
     ]
    }
   ],
   "source": [
    "#some more information about data\n",
    "df.info()"
   ]
  },
  {
   "cell_type": "code",
   "execution_count": 12,
   "metadata": {
    "id": "lJgt0fSKLG0N",
    "outputId": "03b29b6c-1064-4f65-9eb6-fb10db732e70",
    "scrolled": true
   },
   "outputs": [
    {
     "data": {
      "text/html": [
       "<div>\n",
       "<style scoped>\n",
       "    .dataframe tbody tr th:only-of-type {\n",
       "        vertical-align: middle;\n",
       "    }\n",
       "\n",
       "    .dataframe tbody tr th {\n",
       "        vertical-align: top;\n",
       "    }\n",
       "\n",
       "    .dataframe thead th {\n",
       "        text-align: right;\n",
       "    }\n",
       "</style>\n",
       "<table border=\"1\" class=\"dataframe\">\n",
       "  <thead>\n",
       "    <tr style=\"text-align: right;\">\n",
       "      <th></th>\n",
       "      <th>Prev Close</th>\n",
       "      <th>Open</th>\n",
       "      <th>High</th>\n",
       "      <th>Low</th>\n",
       "      <th>Last</th>\n",
       "      <th>Close</th>\n",
       "      <th>VWAP</th>\n",
       "      <th>Volume</th>\n",
       "      <th>Turnover</th>\n",
       "      <th>Trades</th>\n",
       "      <th>Deliverable Volume</th>\n",
       "      <th>%Deliverble</th>\n",
       "    </tr>\n",
       "  </thead>\n",
       "  <tbody>\n",
       "    <tr>\n",
       "      <th>count</th>\n",
       "      <td>3322.000000</td>\n",
       "      <td>3322.000000</td>\n",
       "      <td>3322.000000</td>\n",
       "      <td>3322.000000</td>\n",
       "      <td>3322.000000</td>\n",
       "      <td>3322.000000</td>\n",
       "      <td>3322.000000</td>\n",
       "      <td>3.322000e+03</td>\n",
       "      <td>3.322000e+03</td>\n",
       "      <td>2.456000e+03</td>\n",
       "      <td>3.322000e+03</td>\n",
       "      <td>3322.000000</td>\n",
       "    </tr>\n",
       "    <tr>\n",
       "      <th>mean</th>\n",
       "      <td>344.114314</td>\n",
       "      <td>344.763019</td>\n",
       "      <td>351.608007</td>\n",
       "      <td>337.531969</td>\n",
       "      <td>344.239539</td>\n",
       "      <td>344.201626</td>\n",
       "      <td>344.853182</td>\n",
       "      <td>2.954564e+06</td>\n",
       "      <td>1.070144e+14</td>\n",
       "      <td>4.492259e+04</td>\n",
       "      <td>1.207441e+06</td>\n",
       "      <td>0.445899</td>\n",
       "    </tr>\n",
       "    <tr>\n",
       "      <th>std</th>\n",
       "      <td>192.936882</td>\n",
       "      <td>193.619992</td>\n",
       "      <td>198.617808</td>\n",
       "      <td>188.676614</td>\n",
       "      <td>193.187813</td>\n",
       "      <td>193.045886</td>\n",
       "      <td>193.841305</td>\n",
       "      <td>4.104227e+06</td>\n",
       "      <td>2.625564e+14</td>\n",
       "      <td>5.023124e+04</td>\n",
       "      <td>1.398640e+06</td>\n",
       "      <td>0.160496</td>\n",
       "    </tr>\n",
       "    <tr>\n",
       "      <th>min</th>\n",
       "      <td>108.000000</td>\n",
       "      <td>108.000000</td>\n",
       "      <td>110.450000</td>\n",
       "      <td>105.650000</td>\n",
       "      <td>108.000000</td>\n",
       "      <td>108.000000</td>\n",
       "      <td>108.340000</td>\n",
       "      <td>1.236600e+04</td>\n",
       "      <td>2.415857e+11</td>\n",
       "      <td>3.660000e+02</td>\n",
       "      <td>5.383000e+03</td>\n",
       "      <td>0.067000</td>\n",
       "    </tr>\n",
       "    <tr>\n",
       "      <th>25%</th>\n",
       "      <td>164.312500</td>\n",
       "      <td>164.850000</td>\n",
       "      <td>168.000000</td>\n",
       "      <td>161.600000</td>\n",
       "      <td>164.075000</td>\n",
       "      <td>164.312500</td>\n",
       "      <td>164.855000</td>\n",
       "      <td>7.493682e+05</td>\n",
       "      <td>1.817650e+13</td>\n",
       "      <td>2.083200e+04</td>\n",
       "      <td>3.212005e+05</td>\n",
       "      <td>0.332900</td>\n",
       "    </tr>\n",
       "    <tr>\n",
       "      <th>50%</th>\n",
       "      <td>324.700000</td>\n",
       "      <td>325.750000</td>\n",
       "      <td>331.275000</td>\n",
       "      <td>319.850000</td>\n",
       "      <td>325.000000</td>\n",
       "      <td>324.700000</td>\n",
       "      <td>325.765000</td>\n",
       "      <td>2.007292e+06</td>\n",
       "      <td>5.836041e+13</td>\n",
       "      <td>3.588150e+04</td>\n",
       "      <td>8.132775e+05</td>\n",
       "      <td>0.445650</td>\n",
       "    </tr>\n",
       "    <tr>\n",
       "      <th>75%</th>\n",
       "      <td>400.912500</td>\n",
       "      <td>401.000000</td>\n",
       "      <td>407.187500</td>\n",
       "      <td>395.000000</td>\n",
       "      <td>400.912500</td>\n",
       "      <td>400.912500</td>\n",
       "      <td>400.607500</td>\n",
       "      <td>3.636883e+06</td>\n",
       "      <td>1.158526e+14</td>\n",
       "      <td>5.336875e+04</td>\n",
       "      <td>1.605528e+06</td>\n",
       "      <td>0.555850</td>\n",
       "    </tr>\n",
       "    <tr>\n",
       "      <th>max</th>\n",
       "      <td>1307.450000</td>\n",
       "      <td>1310.250000</td>\n",
       "      <td>1324.000000</td>\n",
       "      <td>1270.000000</td>\n",
       "      <td>1308.000000</td>\n",
       "      <td>1307.450000</td>\n",
       "      <td>1302.150000</td>\n",
       "      <td>9.771788e+07</td>\n",
       "      <td>8.160988e+15</td>\n",
       "      <td>1.205984e+06</td>\n",
       "      <td>2.241652e+07</td>\n",
       "      <td>0.979800</td>\n",
       "    </tr>\n",
       "  </tbody>\n",
       "</table>\n",
       "</div>"
      ],
      "text/plain": [
       "        Prev Close         Open         High          Low         Last  \\\n",
       "count  3322.000000  3322.000000  3322.000000  3322.000000  3322.000000   \n",
       "mean    344.114314   344.763019   351.608007   337.531969   344.239539   \n",
       "std     192.936882   193.619992   198.617808   188.676614   193.187813   \n",
       "min     108.000000   108.000000   110.450000   105.650000   108.000000   \n",
       "25%     164.312500   164.850000   168.000000   161.600000   164.075000   \n",
       "50%     324.700000   325.750000   331.275000   319.850000   325.000000   \n",
       "75%     400.912500   401.000000   407.187500   395.000000   400.912500   \n",
       "max    1307.450000  1310.250000  1324.000000  1270.000000  1308.000000   \n",
       "\n",
       "             Close         VWAP        Volume      Turnover        Trades  \\\n",
       "count  3322.000000  3322.000000  3.322000e+03  3.322000e+03  2.456000e+03   \n",
       "mean    344.201626   344.853182  2.954564e+06  1.070144e+14  4.492259e+04   \n",
       "std     193.045886   193.841305  4.104227e+06  2.625564e+14  5.023124e+04   \n",
       "min     108.000000   108.340000  1.236600e+04  2.415857e+11  3.660000e+02   \n",
       "25%     164.312500   164.855000  7.493682e+05  1.817650e+13  2.083200e+04   \n",
       "50%     324.700000   325.765000  2.007292e+06  5.836041e+13  3.588150e+04   \n",
       "75%     400.912500   400.607500  3.636883e+06  1.158526e+14  5.336875e+04   \n",
       "max    1307.450000  1302.150000  9.771788e+07  8.160988e+15  1.205984e+06   \n",
       "\n",
       "       Deliverable Volume  %Deliverble  \n",
       "count        3.322000e+03  3322.000000  \n",
       "mean         1.207441e+06     0.445899  \n",
       "std          1.398640e+06     0.160496  \n",
       "min          5.383000e+03     0.067000  \n",
       "25%          3.212005e+05     0.332900  \n",
       "50%          8.132775e+05     0.445650  \n",
       "75%          1.605528e+06     0.555850  \n",
       "max          2.241652e+07     0.979800  "
      ]
     },
     "execution_count": 12,
     "metadata": {},
     "output_type": "execute_result"
    }
   ],
   "source": [
    "#through this command we can see the mean, max, min and other details\n",
    "df.describe()"
   ]
  },
  {
   "cell_type": "code",
   "execution_count": 13,
   "metadata": {
    "id": "6FVCy4WOLcjg",
    "outputId": "ee818ee6-558c-4e07-958d-27a711428243"
   },
   "outputs": [
    {
     "data": {
      "text/plain": [
       "12"
      ]
     },
     "execution_count": 13,
     "metadata": {},
     "output_type": "execute_result"
    }
   ],
   "source": [
    "numerical_datatype=['int16','int32','int64','float16','float32','float64']\n",
    "numeric_df = df.select_dtypes(include=numerical_datatype)\n",
    "len(numeric_df.columns)"
   ]
  },
  {
   "cell_type": "markdown",
   "metadata": {
    "id": "lNJTU3IEN0kZ"
   },
   "source": [
    "Percentage of missing values in data\n"
   ]
  },
  {
   "cell_type": "code",
   "execution_count": 14,
   "metadata": {
    "id": "8dGBpnzzM6pJ",
    "outputId": "c905d3d3-879e-4be8-bf1c-93236823a664"
   },
   "outputs": [
    {
     "data": {
      "text/plain": [
       "Trades                0.260686\n",
       "Date                  0.000000\n",
       "Prev Close            0.000000\n",
       "Open                  0.000000\n",
       "High                  0.000000\n",
       "Low                   0.000000\n",
       "Last                  0.000000\n",
       "Close                 0.000000\n",
       "VWAP                  0.000000\n",
       "Volume                0.000000\n",
       "Turnover              0.000000\n",
       "Deliverable Volume    0.000000\n",
       "%Deliverble           0.000000\n",
       "dtype: float64"
      ]
     },
     "execution_count": 14,
     "metadata": {},
     "output_type": "execute_result"
    }
   ],
   "source": [
    "#searching for missing value in percentage\n",
    "missing_percentage=df.isnull().sum().sort_values(ascending=False)/len(df)\n",
    "missing_percentage"
   ]
  },
  {
   "cell_type": "code",
   "execution_count": 15,
   "metadata": {
    "id": "qxxyVMfoNJXd",
    "outputId": "0e95be00-3bf0-4146-a4f0-dfe7da5ac502"
   },
   "outputs": [
    {
     "data": {
      "text/plain": [
       "Text(0.5, 1.0, 'Missing_value percentage')"
      ]
     },
     "execution_count": 15,
     "metadata": {},
     "output_type": "execute_result"
    },
    {
     "data": {
      "image/png": "[encoded data removed]",
      "text/plain": [
       "<Figure size 432x288 with 1 Axes>"
      ]
     },
     "metadata": {
      "needs_background": "light"
     },
     "output_type": "display_data"
    }
   ],
   "source": [
    "#missing value percentage using barchart\n",
    "missing_percentage.plot(kind='bar')\n",
    "plt.title(\"Missing_value percentage\")"
   ]
  },
  {
   "cell_type": "markdown",
   "metadata": {
    "id": "fDKDvEOrPBor"
   },
   "source": [
    "EXPLORATRY ANALYSIS AND VISUALIZATION\n",
    "\n",
    "Columns which are going to be analyzed:\n",
    "1. Volume\n",
    "2. Trades\n",
    "3. Turnover\n",
    "4. Date for analysing over year analysis\n",
    "5. High and Low\n"
   ]
  },
  {
   "cell_type": "code",
   "execution_count": 16,
   "metadata": {
    "id": "Pu7SSn8CO7Cy",
    "outputId": "d894b9e1-ff90-4d48-db16-b92114f36a60"
   },
   "outputs": [
    {
     "data": {
      "text/plain": [
       "Index(['Date', 'Prev Close', 'Open', 'High', 'Low', 'Last', 'Close', 'VWAP',\n",
       "       'Volume', 'Turnover', 'Trades', 'Deliverable Volume', '%Deliverble'],\n",
       "      dtype='object')"
      ]
     },
     "execution_count": 16,
     "metadata": {},
     "output_type": "execute_result"
    }
   ],
   "source": [
    "df.columns"
   ]
  },
  {
   "cell_type": "markdown",
   "metadata": {
    "id": "MqtpIpchm_tV"
   },
   "source": [
    "#Volume"
   ]
  },
  {
   "cell_type": "code",
   "execution_count": 17,
   "metadata": {
    "id": "YnoXIfxPcpij"
   },
   "outputs": [],
   "source": [
    "#importing seaborn libaray for better visualization of data\n",
    "import seaborn as sns\n",
    "sns.set_style(\"darkgrid\")"
   ]
  },
  {
   "cell_type": "code",
   "execution_count": 18,
   "metadata": {
    "id": "Exvo1OrxiSux",
    "outputId": "8e953158-3b3b-4ee9-db73-4cfe5a69b428"
   },
   "outputs": [
    {
     "data": {
      "text/plain": [
       "<AxesSubplot:xlabel='Volume', ylabel='Count'>"
      ]
     },
     "execution_count": 18,
     "metadata": {},
     "output_type": "execute_result"
    },
    {
     "data": {
      "image/png": "[encoded data removed]",
      "text/plain": [
       "<Figure size 432x288 with 1 Axes>"
      ]
     },
     "metadata": {},
     "output_type": "display_data"
    }
   ],
   "source": [
    "#volume column histogram represents most of the volume of comapny is between 10^5 to 10^7\n",
    "sns.histplot(df.Volume, log_scale=True)"
   ]
  },
  {
   "cell_type": "code",
   "execution_count": 19,
   "metadata": {
    "id": "7Fk91su5kjS3",
    "outputId": "0dccd668-c19b-4611-b74c-a519ab2e8ab8"
   },
   "outputs": [
    {
     "data": {
      "text/plain": [
       "3322"
      ]
     },
     "execution_count": 19,
     "metadata": {},
     "output_type": "execute_result"
    }
   ],
   "source": [
    "volumes=df.Volume.value_counts()\n",
    "len(volumes)"
   ]
  },
  {
   "cell_type": "code",
   "execution_count": 20,
   "metadata": {
    "id": "XCFSEET4igIG"
   },
   "outputs": [],
   "source": [
    "#checking for higher volumes and lower volumes that company got\n",
    "high_volume=df.Volume[df.Volume>=5000000]\n",
    "low_volume=df.Volume[df.Volume<500000]"
   ]
  },
  {
   "cell_type": "code",
   "execution_count": 21,
   "metadata": {
    "id": "mZ_38MwkjmBD",
    "outputId": "9b79dac5-ddc7-4913-e84d-407c29130601"
   },
   "outputs": [
    {
     "data": {
      "text/plain": [
       "0.14388922335942203"
      ]
     },
     "execution_count": 21,
     "metadata": {},
     "output_type": "execute_result"
    }
   ],
   "source": [
    "len(high_volume)/len(volumes)"
   ]
  },
  {
   "cell_type": "code",
   "execution_count": 22,
   "metadata": {
    "id": "COASPF1Bjn0b",
    "outputId": "3f0ebe17-bb2e-4819-f6b3-5f64d4d1ff42"
   },
   "outputs": [
    {
     "data": {
      "text/plain": [
       "0.17248645394340759"
      ]
     },
     "execution_count": 22,
     "metadata": {},
     "output_type": "execute_result"
    }
   ],
   "source": [
    "len(low_volume)/len(volumes)"
   ]
  },
  {
   "cell_type": "markdown",
   "metadata": {
    "id": "IxIWZslxnE3c"
   },
   "source": [
    "#Trades"
   ]
  },
  {
   "cell_type": "code",
   "execution_count": 23,
   "metadata": {
    "id": "FVvx9p1inEif",
    "outputId": "b7b262a2-c465-4b87-b9c7-939395eba567"
   },
   "outputs": [
    {
     "data": {
      "text/plain": [
       "0            0\n",
       "1            0\n",
       "2            0\n",
       "3            0\n",
       "4            0\n",
       "         ...  \n",
       "3317    116457\n",
       "3318    236896\n",
       "3319    130847\n",
       "3320    153293\n",
       "3321    132141\n",
       "Name: Trades, Length: 3322, dtype: int64"
      ]
     },
     "execution_count": 23,
     "metadata": {},
     "output_type": "execute_result"
    }
   ],
   "source": [
    "df.Trades.fillna(0).astype(int)"
   ]
  },
  {
   "cell_type": "code",
   "execution_count": 24,
   "metadata": {
    "id": "6TUTmKyOkWmm",
    "outputId": "96c91f80-4760-4bb8-ffb9-0dad543bc02a"
   },
   "outputs": [
    {
     "data": {
      "text/plain": [
       "<AxesSubplot:xlabel='Trades', ylabel='Count'>"
      ]
     },
     "execution_count": 24,
     "metadata": {},
     "output_type": "execute_result"
    },
    {
     "data": {
      "image/png": "[encoded data removed]",
      "text/plain": [
       "<Figure size 432x288 with 1 Axes>"
      ]
     },
     "metadata": {},
     "output_type": "display_data"
    }
   ],
   "source": [
    "#Trades column histogram represents most of the trades of comapny is between 10^4 to 10^5\n",
    "sns.histplot(df.Trades, log_scale=True)\n"
   ]
  },
  {
   "cell_type": "code",
   "execution_count": 25,
   "metadata": {
    "id": "WCqiN6q-kWo-",
    "outputId": "0b848019-9162-4676-b187-27899ed525ba"
   },
   "outputs": [
    {
     "data": {
      "text/plain": [
       "2417"
      ]
     },
     "execution_count": 25,
     "metadata": {},
     "output_type": "execute_result"
    }
   ],
   "source": [
    "Trades_count=df.Trades.value_counts()\n",
    "len(Trades_count)"
   ]
  },
  {
   "cell_type": "code",
   "execution_count": 26,
   "metadata": {
    "id": "E9sWkQYQkWrH"
   },
   "outputs": [],
   "source": [
    "high_trades=df.Trades[df.Trades>=70000]\n",
    "low_trades=df.Trades[df.Trades<10000]"
   ]
  },
  {
   "cell_type": "code",
   "execution_count": 27,
   "metadata": {
    "id": "wikbSoUpuWfq",
    "outputId": "9885afb9-ed9a-4410-c457-48fbaa33592a"
   },
   "outputs": [
    {
     "data": {
      "text/plain": [
       "0.13570541994207697"
      ]
     },
     "execution_count": 27,
     "metadata": {},
     "output_type": "execute_result"
    }
   ],
   "source": [
    "len(high_trades)/len(Trades_count)"
   ]
  },
  {
   "cell_type": "code",
   "execution_count": 28,
   "metadata": {
    "id": "uRsj1lnYuWcd",
    "outputId": "729c16b2-562e-4388-a39a-9003e8f45080"
   },
   "outputs": [
    {
     "data": {
      "text/plain": [
       "0.07447248655357881"
      ]
     },
     "execution_count": 28,
     "metadata": {},
     "output_type": "execute_result"
    }
   ],
   "source": [
    "len(low_trades)/len(Trades_count)"
   ]
  },
  {
   "cell_type": "markdown",
   "metadata": {
    "id": "1NcwoA3NuRUD"
   },
   "source": [
    "#TURNOVER"
   ]
  },
  {
   "cell_type": "code",
   "execution_count": 29,
   "metadata": {
    "id": "SAuja0jCuPnF",
    "outputId": "bf69317d-6296-4a90-eb01-e27ea2fe9043"
   },
   "outputs": [
    {
     "data": {
      "image/png": "[encoded data removed]",
      "text/plain": [
       "<Figure size 432x288 with 1 Axes>"
      ]
     },
     "metadata": {},
     "output_type": "display_data"
    }
   ],
   "source": [
    "#visualization of turnover of the company\n",
    "sns.histplot(df.Turnover, log_scale=True)\n",
    "sns.set(rc={\"figure.figsize\": (15, 8)})"
   ]
  },
  {
   "cell_type": "code",
   "execution_count": 30,
   "metadata": {
    "id": "HlEUusKzuPjz",
    "outputId": "1f67c253-0557-4c8b-ffcb-b1264efdd6ec"
   },
   "outputs": [
    {
     "data": {
      "text/plain": [
       "1205984.0"
      ]
     },
     "execution_count": 30,
     "metadata": {},
     "output_type": "execute_result"
    }
   ],
   "source": [
    "highest_turnover=df.Trades.max()\n",
    "highest_turnover"
   ]
  },
  {
   "cell_type": "code",
   "execution_count": 31,
   "metadata": {
    "id": "MFs4BsLKuPhz",
    "outputId": "529c5d09-06c8-47ae-e22d-2618a6f05c18"
   },
   "outputs": [
    {
     "data": {
      "text/plain": [
       "366.0"
      ]
     },
     "execution_count": 31,
     "metadata": {},
     "output_type": "execute_result"
    }
   ],
   "source": [
    "lowest_turnover=df.Trades.min()\n",
    "lowest_turnover"
   ]
  },
  {
   "cell_type": "markdown",
   "metadata": {
    "id": "RJN1Mb4ZvjOx"
   },
   "source": [
    "#DATE"
   ]
  },
  {
   "cell_type": "code",
   "execution_count": 32,
   "metadata": {
    "id": "6EA9xaaI1J21"
   },
   "outputs": [],
   "source": [
    "df['Date'] = pd.to_datetime(df['Date'])\n",
    "df['Month'] = df['Date'].dt.month\n",
    "df['Year'] = df['Date'].dt.year\n",
    "df['Weekdays'] = df['Date'].dt.dayofweek\n",
    "df['Months'] = df['Date'].dt.strftime('%b')"
   ]
  },
  {
   "cell_type": "code",
   "execution_count": 33,
   "metadata": {
    "id": "3xmw9fwVkWs2",
    "outputId": "54da4c10-afda-450f-fe3a-c31f78037b2d"
   },
   "outputs": [
    {
     "data": {
      "image/png": "[encoded data removed]",
      "text/plain": [
       "<Figure size 1080x576 with 1 Axes>"
      ]
     },
     "metadata": {},
     "output_type": "display_data"
    }
   ],
   "source": [
    "sns.histplot(df.Months, bins=12, kde=False)\n",
    "sns.set(rc={\"figure.figsize\": (15, 8)})"
   ]
  },
  {
   "cell_type": "code",
   "execution_count": 34,
   "metadata": {
    "id": "ihR_wuWBtk_w",
    "outputId": "b02c57ac-35f1-4d26-ce3b-b473379988b0"
   },
   "outputs": [
    {
     "data": {
      "text/plain": [
       "<AxesSubplot:xlabel='Year', ylabel='Volume'>"
      ]
     },
     "execution_count": 34,
     "metadata": {},
     "output_type": "execute_result"
    },
    {
     "data": {
      "image/png": "[encoded data removed]",
      "text/plain": [
       "<Figure size 1080x576 with 1 Axes>"
      ]
     },
     "metadata": {},
     "output_type": "display_data"
    }
   ],
   "source": [
    "#volumes vs years chart\n",
    "\n",
    "sns.barplot(x=df.Year,y=df.Volume)\n"
   ]
  },
  {
   "cell_type": "code",
   "execution_count": 35,
   "metadata": {
    "id": "XTt_Vr90sxbI",
    "outputId": "3131f906-8826-4cb2-ddac-6e4ff72ccf7e"
   },
   "outputs": [
    {
     "data": {
      "image/png": "[encoded data removed]",
      "text/plain": [
       "<Figure size 1080x576 with 1 Axes>"
      ]
     },
     "metadata": {},
     "output_type": "display_data"
    }
   ],
   "source": [
    "#volumes vs months chart\n",
    "sns.barplot(x=df.Months,y=df.Volume,color='orange')\n",
    "plt.show()"
   ]
  },
  {
   "cell_type": "code",
   "execution_count": 36,
   "metadata": {
    "id": "rRuco1KVt1vM",
    "outputId": "d174cfab-258b-4cfc-e0e0-4858ab917d35"
   },
   "outputs": [
    {
     "data": {
      "text/plain": [
       "<AxesSubplot:xlabel='Year', ylabel='Trades'>"
      ]
     },
     "execution_count": 36,
     "metadata": {},
     "output_type": "execute_result"
    },
    {
     "data": {
      "image/png": "[encoded data removed]",
      "text/plain": [
       "<Figure size 1080x576 with 1 Axes>"
      ]
     },
     "metadata": {},
     "output_type": "display_data"
    }
   ],
   "source": [
    "#Trades vs years chart\n",
    "sns.barplot(x=df.Year,y=df.Trades,color='green')\n"
   ]
  },
  {
   "cell_type": "code",
   "execution_count": 37,
   "metadata": {
    "id": "CQoqMRq2sWVS",
    "outputId": "234dfa0b-5afb-4871-f82a-2b97dfa1273d"
   },
   "outputs": [
    {
     "data": {
      "image/png": "[encoded data removed]",
      "text/plain": [
       "<Figure size 1080x576 with 1 Axes>"
      ]
     },
     "metadata": {},
     "output_type": "display_data"
    }
   ],
   "source": [
    "#Trades vs months chart\n",
    "sns.barplot(x=df.Months,y=df.Trades)\n",
    "plt.show()"
   ]
  },
  {
   "cell_type": "code",
   "execution_count": 38,
   "metadata": {
    "id": "MsuU5F_O7hTy",
    "outputId": "fa21cbea-4fde-47a5-8f43-5786f87b2487"
   },
   "outputs": [
    {
     "data": {
      "text/plain": [
       "<AxesSubplot:xlabel='Weekdays', ylabel='Trades'>"
      ]
     },
     "execution_count": 38,
     "metadata": {},
     "output_type": "execute_result"
    },
    {
     "data": {
      "image/png": "[encoded data removed]",
      "text/plain": [
       "<Figure size 1080x576 with 1 Axes>"
      ]
     },
     "metadata": {},
     "output_type": "display_data"
    }
   ],
   "source": [
    "#Trades vs weekdays chart\n",
    "sns.barplot(x=df.Weekdays,y=df.Trades)"
   ]
  },
  {
   "cell_type": "code",
   "execution_count": 39,
   "metadata": {
    "id": "bk8oaP61kWzs",
    "outputId": "363cec3f-d152-48fc-9277-2a9a9a9fa5d3"
   },
   "outputs": [
    {
     "data": {
      "text/plain": [
       "<AxesSubplot:xlabel='Year', ylabel='High'>"
      ]
     },
     "execution_count": 39,
     "metadata": {},
     "output_type": "execute_result"
    },
    {
     "data": {
      "image/png": "[encoded data removed]",
      "text/plain": [
       "<Figure size 1080x576 with 1 Axes>"
      ]
     },
     "metadata": {},
     "output_type": "display_data"
    }
   ],
   "source": [
    "#highest opening price of day over year analysis\n",
    "sns.barplot(x=df.Year,y=df.High,color='cyan')"
   ]
  },
  {
   "cell_type": "code",
   "execution_count": 40,
   "metadata": {
    "id": "Wxy23U9ckW4J",
    "outputId": "93acdfad-0d5f-46ab-993b-0abda34b9b54"
   },
   "outputs": [
    {
     "data": {
      "text/plain": [
       "<AxesSubplot:xlabel='Year', ylabel='Low'>"
      ]
     },
     "execution_count": 40,
     "metadata": {},
     "output_type": "execute_result"
    },
    {
     "data": {
      "image/png": "[encoded data removed]",
      "text/plain": [
       "<Figure size 1080x576 with 1 Axes>"
      ]
     },
     "metadata": {},
     "output_type": "display_data"
    }
   ],
   "source": [
    "#lowest opening price of day over year analysis\n",
    "sns.barplot(x=df.Year,y=df.Low)"
   ]
  },
  {
   "cell_type": "markdown",
   "metadata": {
    "id": "71EU0GnMqgfQ"
   },
   "source": [
    "Questions that came during analysis\n",
    "\n",
    "1. which is the most trading day?\n",
    "2. which month we had seen trading all time high?\n",
    "3. what is the trend of trading year over year?\n",
    "2. what is the highest and lowest turnover?\n",
    "3. highest and lowest volume days?\n"
   ]
  },
  {
   "cell_type": "markdown",
   "metadata": {
    "id": "WWzn_AFrkXuE"
   },
   "source": [
    "SUMMARY AND CONCLUSION\n",
    "\n",
    "Insights:\n",
    "\n",
    "*   The days when volume was greater than 50,00,000 on basis of everdays volume is 14.39%.\n",
    "*   The days when volume was less than 5,00,000 on basis of everdays volume is 17.24%.\n",
    "*   The days when No. of trades was greater than 70,000 on basis of everdays is 13.57%.\n",
    "*   The days when No. of trades was less than 10,000 on basis of everdays is 7.44%.\n",
    "*   Usually after analysis we can say most trading days are from monday to friday. There is usually less or no to trading on saturdays and sundays.\n",
    "*   We have seen the most trading month after the analysis is month of APRIL.\n",
    "*   Talking about the trend of trading on basis of years, we can say that it has only increasd and for till now with analysis we can say that 2021 year is the most trading year.\n",
    "*   Highest turnover of the company = 1205984.0\n",
    "*   Lowest turnover of the company = 366.0\n",
    "*  Talking about volume, then in 2007 company have bigger volume and then it decreased and then it is started increasing from 2012 from then it has increased.\n",
    "*   April month is the most happening month for volumes of the company.\n",
    "\n",
    "\n",
    "\n",
    "\n",
    "\n",
    "\n",
    "\n",
    "\n",
    "\n",
    "\n",
    "\n"
   ]
  },
  {
   "cell_type": "code",
   "execution_count": null,
   "metadata": {},
   "outputs": [],
   "source": [
    "\n"
   ]
  },
  {
   "cell_type": "markdown",
   "metadata": {},
   "source": [
    "Great! Our data is ready for our model!\n",
    "\n",
    "# Building a Linear Regression model\n",
    "\n",
    "## Train Test Split"
   ]
  },
  {
   "cell_type": "code",
   "execution_count": 41,
   "metadata": {},
   "outputs": [],
   "source": [
    "df.drop(['Trades','Turnover','Month','Year'],axis=1,inplace=True)"
   ]
  },
  {
   "cell_type": "code",
   "execution_count": 42,
   "metadata": {},
   "outputs": [],
   "source": [
    "df.drop(['Months','Weekdays','%Deliverble','Deliverable Volume','Last'],axis=1,inplace=True)"
   ]
  },
  {
   "cell_type": "code",
   "execution_count": 43,
   "metadata": {},
   "outputs": [],
   "source": [
    "df.drop(['VWAP','Prev Close'],axis=1,inplace=True)"
   ]
  },
  {
   "cell_type": "code",
   "execution_count": 44,
   "metadata": {},
   "outputs": [
    {
     "name": "stdout",
     "output_type": "stream",
     "text": [
      "<class 'pandas.core.frame.DataFrame'>\n",
      "RangeIndex: 3322 entries, 0 to 3321\n",
      "Data columns (total 6 columns):\n",
      " #   Column  Non-Null Count  Dtype         \n",
      "---  ------  --------------  -----         \n",
      " 0   Date    3322 non-null   datetime64[ns]\n",
      " 1   Open    3322 non-null   float64       \n",
      " 2   High    3322 non-null   float64       \n",
      " 3   Low     3322 non-null   float64       \n",
      " 4   Close   3322 non-null   float64       \n",
      " 5   Volume  3322 non-null   int64         \n",
      "dtypes: datetime64[ns](1), float64(4), int64(1)\n",
      "memory usage: 155.8 KB\n"
     ]
    }
   ],
   "source": [
    "df.info()"
   ]
  },
  {
   "cell_type": "code",
   "execution_count": 45,
   "metadata": {},
   "outputs": [],
   "source": [
    "df=pd.read_csv(data_file)"
   ]
  },
  {
   "cell_type": "code",
   "execution_count": 46,
   "metadata": {},
   "outputs": [],
   "source": [
    "df.drop(['Symbol','Last','Series','VWAP','Turnover','Trades','Deliverable Volume','%Deliverble','Prev Close'],axis=1,inplace=True)"
   ]
  },
  {
   "cell_type": "code",
   "execution_count": 47,
   "metadata": {},
   "outputs": [
    {
     "data": {
      "text/html": [
       "<div>\n",
       "<style scoped>\n",
       "    .dataframe tbody tr th:only-of-type {\n",
       "        vertical-align: middle;\n",
       "    }\n",
       "\n",
       "    .dataframe tbody tr th {\n",
       "        vertical-align: top;\n",
       "    }\n",
       "\n",
       "    .dataframe thead th {\n",
       "        text-align: right;\n",
       "    }\n",
       "</style>\n",
       "<table border=\"1\" class=\"dataframe\">\n",
       "  <thead>\n",
       "    <tr style=\"text-align: right;\">\n",
       "      <th></th>\n",
       "      <th>Date</th>\n",
       "      <th>Open</th>\n",
       "      <th>High</th>\n",
       "      <th>Low</th>\n",
       "      <th>Close</th>\n",
       "      <th>Volume</th>\n",
       "    </tr>\n",
       "  </thead>\n",
       "  <tbody>\n",
       "    <tr>\n",
       "      <th>0</th>\n",
       "      <td>2007-11-27</td>\n",
       "      <td>770.00</td>\n",
       "      <td>1050.00</td>\n",
       "      <td>770.0</td>\n",
       "      <td>962.90</td>\n",
       "      <td>27294366</td>\n",
       "    </tr>\n",
       "    <tr>\n",
       "      <th>1</th>\n",
       "      <td>2007-11-28</td>\n",
       "      <td>984.00</td>\n",
       "      <td>990.00</td>\n",
       "      <td>874.0</td>\n",
       "      <td>893.90</td>\n",
       "      <td>4581338</td>\n",
       "    </tr>\n",
       "    <tr>\n",
       "      <th>2</th>\n",
       "      <td>2007-11-29</td>\n",
       "      <td>909.00</td>\n",
       "      <td>914.75</td>\n",
       "      <td>841.0</td>\n",
       "      <td>884.20</td>\n",
       "      <td>5124121</td>\n",
       "    </tr>\n",
       "    <tr>\n",
       "      <th>3</th>\n",
       "      <td>2007-11-30</td>\n",
       "      <td>890.00</td>\n",
       "      <td>958.00</td>\n",
       "      <td>890.0</td>\n",
       "      <td>921.55</td>\n",
       "      <td>4609762</td>\n",
       "    </tr>\n",
       "    <tr>\n",
       "      <th>4</th>\n",
       "      <td>2007-12-03</td>\n",
       "      <td>939.75</td>\n",
       "      <td>995.00</td>\n",
       "      <td>922.0</td>\n",
       "      <td>969.30</td>\n",
       "      <td>2977470</td>\n",
       "    </tr>\n",
       "  </tbody>\n",
       "</table>\n",
       "</div>"
      ],
      "text/plain": [
       "         Date    Open     High    Low   Close    Volume\n",
       "0  2007-11-27  770.00  1050.00  770.0  962.90  27294366\n",
       "1  2007-11-28  984.00   990.00  874.0  893.90   4581338\n",
       "2  2007-11-29  909.00   914.75  841.0  884.20   5124121\n",
       "3  2007-11-30  890.00   958.00  890.0  921.55   4609762\n",
       "4  2007-12-03  939.75   995.00  922.0  969.30   2977470"
      ]
     },
     "execution_count": 47,
     "metadata": {},
     "output_type": "execute_result"
    }
   ],
   "source": [
    "df.head()"
   ]
  },
  {
   "cell_type": "code",
   "execution_count": 48,
   "metadata": {},
   "outputs": [
    {
     "data": {
      "text/plain": [
       "Date      False\n",
       "Open      False\n",
       "High      False\n",
       "Low       False\n",
       "Close     False\n",
       "Volume    False\n",
       "dtype: bool"
      ]
     },
     "execution_count": 48,
     "metadata": {},
     "output_type": "execute_result"
    }
   ],
   "source": [
    "df.isna().any()"
   ]
  },
  {
   "cell_type": "code",
   "execution_count": 49,
   "metadata": {},
   "outputs": [],
   "source": [
    "x=df[['Open','High','Low','Volume']]\n",
    "y=df['Close']"
   ]
  },
  {
   "cell_type": "code",
   "execution_count": 50,
   "metadata": {},
   "outputs": [],
   "source": [
    "from sklearn.model_selection import train_test_split\n",
    "X_train,X_test,y_train,y_test=train_test_split(x,y,random_state=0,test_size=0.2)"
   ]
  },
  {
   "cell_type": "code",
   "execution_count": 51,
   "metadata": {},
   "outputs": [
    {
     "data": {
      "text/plain": [
       "(2657, 4)"
      ]
     },
     "execution_count": 51,
     "metadata": {},
     "output_type": "execute_result"
    }
   ],
   "source": [
    "X_train.shape"
   ]
  },
  {
   "cell_type": "code",
   "execution_count": 52,
   "metadata": {},
   "outputs": [
    {
     "data": {
      "text/plain": [
       "(665, 4)"
      ]
     },
     "execution_count": 52,
     "metadata": {},
     "output_type": "execute_result"
    }
   ],
   "source": [
    "X_test.shape"
   ]
  },
  {
   "cell_type": "code",
   "execution_count": 53,
   "metadata": {},
   "outputs": [],
   "source": [
    "from sklearn.linear_model import LinearRegression\n",
    "from sklearn.metrics import confusion_matrix,accuracy_score\n",
    "regressor=LinearRegression()"
   ]
  },
  {
   "cell_type": "code",
   "execution_count": 54,
   "metadata": {},
   "outputs": [
    {
     "data": {
      "text/plain": [
       "LinearRegression()"
      ]
     },
     "execution_count": 54,
     "metadata": {},
     "output_type": "execute_result"
    }
   ],
   "source": [
    "regressor.fit(X_train,y_train)"
   ]
  },
  {
   "cell_type": "code",
   "execution_count": 55,
   "metadata": {},
   "outputs": [
    {
     "name": "stdout",
     "output_type": "stream",
     "text": [
      "[-5.03504216e-01  7.45694571e-01  7.54248078e-01  1.33918894e-07]\n"
     ]
    }
   ],
   "source": [
    "print(regressor.coef_)"
   ]
  },
  {
   "cell_type": "code",
   "execution_count": 56,
   "metadata": {},
   "outputs": [
    {
     "name": "stdout",
     "output_type": "stream",
     "text": [
      "0.6015961292258112\n"
     ]
    }
   ],
   "source": [
    "print(regressor.intercept_)"
   ]
  },
  {
   "cell_type": "code",
   "execution_count": 57,
   "metadata": {},
   "outputs": [],
   "source": [
    "predicted=regressor.predict(X_test)"
   ]
  },
  {
   "cell_type": "code",
   "execution_count": 58,
   "metadata": {},
   "outputs": [
    {
     "name": "stdout",
     "output_type": "stream",
     "text": [
      "        Open    High     Low   Volume\n",
      "1182  117.50  117.50  114.20   373291\n",
      "1396  150.05  153.90  149.50  1328772\n",
      "1773  348.00  349.45  340.90  2928237\n",
      "2057  236.45  243.20  235.75  4606790\n",
      "2520  428.00  435.50  424.50  2734628\n",
      "...      ...     ...     ...      ...\n",
      "2144  226.00  229.45  223.55  3648076\n",
      "2952  390.00  394.40  388.50  2277683\n",
      "2430  407.00  414.70  406.00  4319190\n",
      "710   167.25  169.80  160.60  2388253\n",
      "1110  112.00  112.05  109.80  1245523\n",
      "\n",
      "[665 rows x 4 columns]\n"
     ]
    }
   ],
   "source": [
    "print(X_test)"
   ]
  },
  {
   "cell_type": "code",
   "execution_count": 59,
   "metadata": {},
   "outputs": [
    {
     "data": {
      "text/plain": [
       "(665,)"
      ]
     },
     "execution_count": 59,
     "metadata": {},
     "output_type": "execute_result"
    }
   ],
   "source": [
    "predicted.shape"
   ]
  },
  {
   "cell_type": "code",
   "execution_count": 71,
   "metadata": {},
   "outputs": [],
   "source": [
    "dframe=pd.DataFrame(y_test,predicted)"
   ]
  },
  {
   "cell_type": "code",
   "execution_count": 72,
   "metadata": {},
   "outputs": [],
   "source": [
    "dfr=pd.DataFrame({'Actual price':y_test,'Predicted price':predicted})"
   ]
  },
  {
   "cell_type": "code",
   "execution_count": 106,
   "metadata": {},
   "outputs": [
    {
     "data": {
      "text/plain": [
       "<seaborn.axisgrid.PairGrid at 0x7f7f38d5b190>"
      ]
     },
     "execution_count": 106,
     "metadata": {},
     "output_type": "execute_result"
    },
    {
     "data": {
      "image/png": "[encoded data removed]",
      "text/plain": [
       "<Figure size 360x360 with 6 Axes>"
      ]
     },
     "metadata": {},
     "output_type": "display_data"
    }
   ],
   "source": [
    "\n",
    "sns.set(rc={\"figure.figsize\":(20, 15)})\n",
    "sns.pairplot(dfr)"
   ]
  },
  {
   "cell_type": "code",
   "execution_count": 101,
   "metadata": {},
   "outputs": [
    {
     "data": {
      "text/html": [
       "<div>\n",
       "<style scoped>\n",
       "    .dataframe tbody tr th:only-of-type {\n",
       "        vertical-align: middle;\n",
       "    }\n",
       "\n",
       "    .dataframe tbody tr th {\n",
       "        vertical-align: top;\n",
       "    }\n",
       "\n",
       "    .dataframe thead th {\n",
       "        text-align: right;\n",
       "    }\n",
       "</style>\n",
       "<table border=\"1\" class=\"dataframe\">\n",
       "  <thead>\n",
       "    <tr style=\"text-align: right;\">\n",
       "      <th></th>\n",
       "      <th>Actual price</th>\n",
       "      <th>Predicted price</th>\n",
       "    </tr>\n",
       "  </thead>\n",
       "  <tbody>\n",
       "    <tr>\n",
       "      <th>1182</th>\n",
       "      <td>116.60</td>\n",
       "      <td>115.244084</td>\n",
       "    </tr>\n",
       "    <tr>\n",
       "      <th>1396</th>\n",
       "      <td>151.85</td>\n",
       "      <td>152.751218</td>\n",
       "    </tr>\n",
       "    <tr>\n",
       "      <th>1773</th>\n",
       "      <td>345.15</td>\n",
       "      <td>343.480413</td>\n",
       "    </tr>\n",
       "    <tr>\n",
       "      <th>2057</th>\n",
       "      <td>241.95</td>\n",
       "      <td>241.331865</td>\n",
       "    </tr>\n",
       "    <tr>\n",
       "      <th>2520</th>\n",
       "      <td>428.85</td>\n",
       "      <td>430.396305</td>\n",
       "    </tr>\n",
       "    <tr>\n",
       "      <th>1359</th>\n",
       "      <td>154.65</td>\n",
       "      <td>156.180419</td>\n",
       "    </tr>\n",
       "    <tr>\n",
       "      <th>118</th>\n",
       "      <td>884.40</td>\n",
       "      <td>885.733238</td>\n",
       "    </tr>\n",
       "    <tr>\n",
       "      <th>3029</th>\n",
       "      <td>358.40</td>\n",
       "      <td>358.686278</td>\n",
       "    </tr>\n",
       "    <tr>\n",
       "      <th>3063</th>\n",
       "      <td>270.50</td>\n",
       "      <td>268.184707</td>\n",
       "    </tr>\n",
       "    <tr>\n",
       "      <th>751</th>\n",
       "      <td>151.45</td>\n",
       "      <td>152.104199</td>\n",
       "    </tr>\n",
       "    <tr>\n",
       "      <th>501</th>\n",
       "      <td>558.75</td>\n",
       "      <td>561.316808</td>\n",
       "    </tr>\n",
       "    <tr>\n",
       "      <th>3147</th>\n",
       "      <td>357.45</td>\n",
       "      <td>356.647199</td>\n",
       "    </tr>\n",
       "    <tr>\n",
       "      <th>1939</th>\n",
       "      <td>301.85</td>\n",
       "      <td>304.560307</td>\n",
       "    </tr>\n",
       "    <tr>\n",
       "      <th>361</th>\n",
       "      <td>576.25</td>\n",
       "      <td>593.199575</td>\n",
       "    </tr>\n",
       "    <tr>\n",
       "      <th>1751</th>\n",
       "      <td>283.05</td>\n",
       "      <td>283.378584</td>\n",
       "    </tr>\n",
       "  </tbody>\n",
       "</table>\n",
       "</div>"
      ],
      "text/plain": [
       "      Actual price  Predicted price\n",
       "1182        116.60       115.244084\n",
       "1396        151.85       152.751218\n",
       "1773        345.15       343.480413\n",
       "2057        241.95       241.331865\n",
       "2520        428.85       430.396305\n",
       "1359        154.65       156.180419\n",
       "118         884.40       885.733238\n",
       "3029        358.40       358.686278\n",
       "3063        270.50       268.184707\n",
       "751         151.45       152.104199\n",
       "501         558.75       561.316808\n",
       "3147        357.45       356.647199\n",
       "1939        301.85       304.560307\n",
       "361         576.25       593.199575\n",
       "1751        283.05       283.378584"
      ]
     },
     "execution_count": 101,
     "metadata": {},
     "output_type": "execute_result"
    }
   ],
   "source": [
    "dfr.head(15)"
   ]
  },
  {
   "cell_type": "code",
   "execution_count": null,
   "metadata": {},
   "outputs": [],
   "source": []
  },
  {
   "cell_type": "code",
   "execution_count": 76,
   "metadata": {},
   "outputs": [],
   "source": [
    "from sklearn.metrics import confusion_matrix,accuracy_score"
   ]
  },
  {
   "cell_type": "code",
   "execution_count": 77,
   "metadata": {},
   "outputs": [
    {
     "data": {
      "text/plain": [
       "0.9994329817619355"
      ]
     },
     "execution_count": 77,
     "metadata": {},
     "output_type": "execute_result"
    }
   ],
   "source": [
    "regressor.score(X_test,y_test)"
   ]
  },
  {
   "cell_type": "code",
   "execution_count": 78,
   "metadata": {},
   "outputs": [],
   "source": [
    "import math "
   ]
  },
  {
   "cell_type": "code",
   "execution_count": 79,
   "metadata": {},
   "outputs": [
    {
     "name": "stdout",
     "output_type": "stream",
     "text": [
      "Mean Absolute Error: 2.773319927554851\n"
     ]
    }
   ],
   "source": [
    "print('Mean Absolute Error:',metrics.mean_absolute_error(y_test,predicted))"
   ]
  },
  {
   "cell_type": "code",
   "execution_count": 80,
   "metadata": {},
   "outputs": [
    {
     "name": "stdout",
     "output_type": "stream",
     "text": [
      "Mean Square Error: 24.794217985230674\n"
     ]
    }
   ],
   "source": [
    "print('Mean Square Error:',metrics.mean_squared_error(y_test,predicted))"
   ]
  },
  {
   "cell_type": "code",
   "execution_count": 81,
   "metadata": {},
   "outputs": [
    {
     "name": "stdout",
     "output_type": "stream",
     "text": [
      "Root Mean Squared Error: 4.979379277101783\n"
     ]
    }
   ],
   "source": [
    "print('Root Mean Squared Error:',math.sqrt(metrics.mean_squared_error(y_test,predicted)))"
   ]
  },
  {
   "cell_type": "code",
   "execution_count": 102,
   "metadata": {},
   "outputs": [],
   "source": [
    "graph=dfr.head(15)"
   ]
  },
  {
   "cell_type": "code",
   "execution_count": 103,
   "metadata": {},
   "outputs": [
    {
     "data": {
      "text/plain": [
       "Text(0.5, 1.0, 'Actual vs predicted')"
      ]
     },
     "execution_count": 103,
     "metadata": {},
     "output_type": "execute_result"
    },
    {
     "data": {
      "image/png": "[encoded data removed]",
      "text/plain": [
       "<Figure size 1080x576 with 1 Axes>"
      ]
     },
     "metadata": {},
     "output_type": "display_data"
    }
   ],
   "source": [
    "graph.plot(kind='bar')\n",
    "plt.title('Actual vs predicted')"
   ]
  },
  {
   "cell_type": "code",
   "execution_count": null,
   "metadata": {},
   "outputs": [],
   "source": []
  },
  {
   "cell_type": "code",
   "execution_count": null,
   "metadata": {},
   "outputs": [],
   "source": [
    "import warnings\n",
    "warnings.filterwarnings('ignore')\n",
    "import numpy as np\n",
    "import pandas as pd\n",
    "import matplotlib.pyplot as plt\n",
    "from statsmodels.tsa.stattools import adfuller\n",
    "from statsmodels.tsa.seasonal import seasonal_decompose\n",
    "from statsmodels.tsa.arima_model import ARIMA\n",
    "from sklearn.metrics import mean_squared_error, mean_absolute_error\n",
    "import math"
   ]
  },
  {
   "cell_type": "code",
   "execution_count": null,
   "metadata": {},
   "outputs": [],
   "source": [
    "df.head()"
   ]
  },
  {
   "cell_type": "code",
   "execution_count": null,
   "metadata": {},
   "outputs": [],
   "source": []
  },
  {
   "cell_type": "code",
   "execution_count": null,
   "metadata": {},
   "outputs": [],
   "source": []
  },
  {
   "cell_type": "code",
   "execution_count": null,
   "metadata": {},
   "outputs": [],
   "source": []
  },
  {
   "cell_type": "code",
   "execution_count": null,
   "metadata": {},
   "outputs": [],
   "source": []
  },
  {
   "cell_type": "code",
   "execution_count": null,
   "metadata": {},
   "outputs": [],
   "source": []
  },
  {
   "cell_type": "code",
   "execution_count": null,
   "metadata": {},
   "outputs": [],
   "source": []
  },
  {
   "cell_type": "code",
   "execution_count": null,
   "metadata": {},
   "outputs": [],
   "source": []
  },
  {
   "cell_type": "code",
   "execution_count": null,
   "metadata": {},
   "outputs": [],
   "source": []
  },
  {
   "cell_type": "code",
   "execution_count": null,
   "metadata": {},
   "outputs": [],
   "source": []
  }
 ],
 "metadata": {
  "kernelspec": {
   "display_name": "Python 3 (ipykernel)",
   "language": "python",
   "name": "python3"
  },
  "language_info": {
   "codemirror_mode": {
    "name": "ipython",
    "version": 3
   },
   "file_extension": ".py",
   "mimetype": "text/x-python",
   "name": "python",
   "nbconvert_exporter": "python",
   "pygments_lexer": "ipython3",
   "version": "3.8.12"
  }
 },
 "nbformat": 4,
 "nbformat_minor": 4
}
